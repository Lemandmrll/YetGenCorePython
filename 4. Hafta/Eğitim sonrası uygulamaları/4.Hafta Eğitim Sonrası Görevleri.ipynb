{
 "cells": [
  {
   "cell_type": "markdown",
   "metadata": {},
   "source": [
    "# Problem 1\n",
    "`ogrenciler` adında bir sözlük oluşturunuz. Kullanıcıdan döngü yardımıyla 3 öğrenci için veri girmesini isteyerek öğrencilerin sırasıyla okul numarası, isim, soy isim, telefon numarası ve doğum tarihi bilgilerini alınız. Aldığınız öğrenci bilgilerini yine aynı döngü yardımıyla `ogrenciler` adındaki sözlükte saklayınız. Daha sonra öğrenci bilgilerinin bulunduğu sözlük yapısını ekrana bastırınız.\n",
    "\n"
   ]
  },
  {
   "cell_type": "code",
   "execution_count": 3,
   "metadata": {},
   "outputs": [
    {
     "name": "stdout",
     "output_type": "stream",
     "text": [
      "---------------\n",
      "{1: {'No': '1', 'isim': '1', 'soyisim': '1', 'Telefon numarasi': '1', 'Dogum tarihi': '1'}}\n",
      "---------------\n",
      "{1: {'No': '1', 'isim': '1', 'soyisim': '1', 'Telefon numarasi': '1', 'Dogum tarihi': '1'}, 2: {'No': '1', 'isim': '1', 'soyisim': '2', 'Telefon numarasi': '2', 'Dogum tarihi': '2'}}\n",
      "---------------\n",
      "{1: {'No': '1', 'isim': '1', 'soyisim': '1', 'Telefon numarasi': '1', 'Dogum tarihi': '1'}, 2: {'No': '1', 'isim': '1', 'soyisim': '2', 'Telefon numarasi': '2', 'Dogum tarihi': '2'}, 3: {'No': '5', 'isim': '5', 'soyisim': '5', 'Telefon numarasi': '5', 'Dogum tarihi': '5'}}\n"
     ]
    }
   ],
   "source": [
    "# 1.Problemin Çözümünü Buraya Yazınız\n",
    "ogrenciler={}\n",
    "for i in range(1,4):\n",
    "    okulNo=input(\"Okul numaranizi giriniz:\")\n",
    "    isim=input(\"ismini giriniz:\")\n",
    "    soyad=input(\"soyadinizi giriniz:\")\n",
    "    telefonNo=input(\"Telefon numarinizi giriniz:\")\n",
    "    dogumTarihi=input(\"Dogum tarihinizi giriniz:\")\n",
    "    print(\"---------------\")\n",
    "\n",
    "    ogrenciler[i]={\n",
    "        \"No\":okulNo,\n",
    "        \"isim\":isim,\n",
    "        \"soyisim\":soyad,\n",
    "        \"Telefon numarasi\":telefonNo,\n",
    "        \"Dogum tarihi\":dogumTarihi\n",
    "    }\n",
    "    print(ogrenciler)"
   ]
  },
  {
   "cell_type": "markdown",
   "metadata": {},
   "source": [
    "# Problem 2\n",
    "\n",
    "### a - Biraz ısınarak başlayalım!\n",
    "\n",
    "```\n",
    "numbers = [5,10,10,15,15,15,20,20,20,20]\n",
    "```\n",
    "\n",
    "Yukarıda `numbers` adında 10 elemanlı bir liste verilmiştir. Bu listenin her elemanını kontrol eden ve tekrar eden elemanları bir kez olacak şekilde başka bir listeye kopyalayan bir program yazınız. Son olarak oluşturduğunuz listeyi ekrana bastırınız.\n",
    "\n",
    "\n",
    "\n",
    "\n",
    "```\n",
    ">Output\n",
    "[5, 10, 15, 20]\n",
    "```\n"
   ]
  },
  {
   "cell_type": "code",
   "execution_count": null,
   "metadata": {},
   "outputs": [],
   "source": [
    "# 2.Problemin a Şıkkının Çözümünü Buraya Yazınız\n",
    "numbers = [5,10,10,15,15,15,20,20,20,20]\n",
    "ozel=[]\n",
    "for number in numbers:\n",
    "    if number in ozel:\n",
    "        continue\n",
    "    else:\n",
    "        ozel.append(number)\n",
    "print(ozel)        "
   ]
  },
  {
   "cell_type": "markdown",
   "metadata": {},
   "source": [
    "### 🌶️ b) Hadi işi biraz daha zorlaştıralım! \n",
    "\n",
    "\n",
    "Şimdiyse senden `numbers` isimli listedeki tekrar eden elemanları `repeatNumbers` adındaki listeye; tekrar etmeyen elemanları `uniqueNumbers`adındaki listeye kopyalayan yazmanı ve listeleri ekrana bastırmanı bekliyoruz\n",
    "\n",
    "```\n",
    ">Output\n",
    "Tekrar Eden Elemanlar: [10, 10, 15, 15, 15, 20, 20, 20, 20]\n",
    "Tekrar Etmeyen Elemanlar: [5]\n",
    "```"
   ]
  },
  {
   "cell_type": "code",
   "execution_count": 11,
   "metadata": {},
   "outputs": [],
   "source": [
    "# 2.Problemin b Şıkkının Çözümünü Buraya Yazınız\n",
    "numbers = [5,10,10,15,15,15,20,20,20,20]\n",
    "uniqueNumbers=[]\n",
    "repeatNumbers=[]\n",
    "for number in numbers:\n",
    "    if numbers.count(number)==1:\n",
    "        uniqueNumbers.append(number)\n",
    "    else:\n",
    "        repeatNumbers.append(number)\n",
    "\n",
    "print=(\"Tekrar etmeyen elemanlar:\",uniqueNumbers)\n",
    "print=(\"Tekrar eden elemanlar:\",repeatNumbers) \n",
    "         "
   ]
  },
  {
   "cell_type": "markdown",
   "metadata": {},
   "source": [
    "# Problem 3\n",
    "sn1 = {1,2,3,4,5}\n",
    "\n",
    "sn2 = {4,5,6,7,8}\n",
    "\n",
    " Verilen 2 adet küme için kesişimlerini, farklarını ve birleşimlerini bulunuz. "
   ]
  },
  {
   "cell_type": "code",
   "execution_count": null,
   "metadata": {},
   "outputs": [],
   "source": [
    "# 3.Problemin Çözümünü Buraya Yazınız\n",
    "sn1={1,2,3,4,5}\n",
    "sn2={4,5,6,7,8}\n",
    "\n",
    "a=sn1.intersection(sn2)\n",
    "print(\"iki kumenin kesisimi:\",a)\n",
    "\n",
    "b=sn1.difference(sn2)\n",
    "print(\"sn1-sn2\",b)\n",
    "\n",
    "c=sn2.difference(sn1)\n",
    "print(\"sn2-sn1\",c)\n",
    "\n",
    "d=sn1.union(sn2)\n",
    "print(\"sn1+sn2\",d)"
   ]
  },
  {
   "cell_type": "markdown",
   "metadata": {},
   "source": [
    "# Problem 4\n",
    "\n",
    "Buradaki işlemlerimizin tamamı stringler içindir. Aşağıda verilecek olan metodlar için kendinizin örnek yaratması gerekmektedir. \n",
    "\n",
    "Örneğin `upper` için `string` değişkeni oluştururken` k = \"BAC\"` şeklinde oluşturmayınız. Bunun yerine k değişkenini `k = \"bac`\" şeklinde oluşturmanız `upper` metodundaki değişimi görebilmeniz için daha iyi olacaktır.\n",
    "\n",
    "Bütün metodlardaki değişimin gözle görülür şekilde değişimi beklenmektedir.\n",
    "\n",
    "\n",
    "1- capitalize(), lower(), upper(), swapcase(), title(), replace()\n",
    "\n",
    "2- endswith(), startswith(), find(), index(), count()\n",
    "\n",
    "3- split(), strip(), join(), islower(), isalpha(), isdigit()\n",
    "\n",
    "\n",
    "Yukarıdaki `string` metodlarındaki değişimleri görebildiğimiz bir program yazınız.\n"
   ]
  },
  {
   "cell_type": "code",
   "execution_count": null,
   "metadata": {},
   "outputs": [],
   "source": [
    "# 4.Problemin Çözümünü Buraya Yazınız\n"
   ]
  }
 ],
 "metadata": {
  "kernelspec": {
   "display_name": "Python 3.10.5 64-bit",
   "language": "python",
   "name": "python3"
  },
  "language_info": {
   "codemirror_mode": {
    "name": "ipython",
    "version": 3
   },
   "file_extension": ".py",
   "mimetype": "text/x-python",
   "name": "python",
   "nbconvert_exporter": "python",
   "pygments_lexer": "ipython3",
   "version": "3.11.1"
  },
  "orig_nbformat": 4,
  "vscode": {
   "interpreter": {
    "hash": "5026d2d6e7aaaaba093def813beadff083d8733e4a511af01735cbabd156995d"
   }
  }
 },
 "nbformat": 4,
 "nbformat_minor": 2
}
