{
 "cells": [
  {
   "attachments": {},
   "cell_type": "markdown",
   "metadata": {},
   "source": [
    "# Problem 1"
   ]
  },
  {
   "cell_type": "code",
   "execution_count": null,
   "metadata": {},
   "outputs": [],
   "source": [
    "pip insall nump"
   ]
  },
  {
   "cell_type": "code",
   "execution_count": 10,
   "metadata": {},
   "outputs": [
    {
     "name": "stdout",
     "output_type": "stream",
     "text": [
      "[ 5  1  6 10 10]\n",
      "(5,)\n",
      "[[ 5]\n",
      " [ 1]\n",
      " [ 6]\n",
      " [10]\n",
      " [10]]\n",
      "1\n"
     ]
    }
   ],
   "source": [
    "# 1 - numpy kütüphanesini import edin\n",
    "import numpy as np\n",
    "# 2 - 0 ile 10 arasında 5 sayıdan oluşan matris üretin\n",
    "matris= np.random.randint(0,11,size=(5,))\n",
    "print(matris)\n",
    "# 3 - matris'in boyutunu öğrenin\n",
    "print(matris.shape)\n",
    "# 4 - matris'i yeniden boyutlandırın\n",
    "multi= matris.reshape(5,1)\n",
    "print(multi)\n",
    "# 5 - matris'in boyut sayısını öğrenin\n",
    "print(matris.ndim)"
   ]
  },
  {
   "attachments": {},
   "cell_type": "markdown",
   "metadata": {},
   "source": [
    "# Problem 2"
   ]
  },
  {
   "cell_type": "code",
   "execution_count": null,
   "metadata": {},
   "outputs": [],
   "source": [
    "# 1 - 0 ile 10 arasında bulunan tek sayılardan oluşan matris üretin\n",
    "import numpy as np\n",
    "matris= np.arange(1,11,2).reshape(2,3)\n",
    "print(matris)\n",
    "# 2 - Oluşturduğunuz matrisi parçalayın\n",
    "parcala=np.split(matris,[1,2])\n",
    "print(parcala)\n",
    "# 3 - Parçalanmış matrisleri birleştirin\n",
    "birlestir=np.concatenate(parcala)\n",
    "print(birlestir)"
   ]
  },
  {
   "attachments": {},
   "cell_type": "markdown",
   "metadata": {},
   "source": [
    "# Problem 3"
   ]
  },
  {
   "cell_type": "code",
   "execution_count": 17,
   "metadata": {},
   "outputs": [
    {
     "name": "stdout",
     "output_type": "stream",
     "text": [
      "Matris: [[ 9 55 15 21 63]\n",
      " [81 29 49 97 57]]\n",
      "Boyut: (2, 5)\n",
      "Boyut Sayisi: 2\n",
      "Veri Tipi: int32\n"
     ]
    }
   ],
   "source": [
    "# 1 - 5 ile 100 arasında ikişer ikişer atlayarak rastgele 10 sayıdan oluşan matris üretin\n",
    "sayilar= np.arange(5,101,2)\n",
    "matris=np.random.choice(sayilar,size=(2,5))\n",
    "# 2 - matris'in özelliklerini inceleyin\n",
    "print(\"Matris:\",matris)\n",
    "print(\"Boyut:\",matris.shape)\n",
    "print(\"Boyut Sayisi:\",matris.ndim)\n",
    "print(\"Veri Tipi:\",matris.dtype)"
   ]
  }
 ],
 "metadata": {
  "kernelspec": {
   "display_name": "Python 3",
   "language": "python",
   "name": "python3"
  },
  "language_info": {
   "codemirror_mode": {
    "name": "ipython",
    "version": 3
   },
   "file_extension": ".py",
   "mimetype": "text/x-python",
   "name": "python",
   "nbconvert_exporter": "python",
   "pygments_lexer": "ipython3",
   "version": "3.11.1"
  },
  "orig_nbformat": 4,
  "vscode": {
   "interpreter": {
    "hash": "5026d2d6e7aaaaba093def813beadff083d8733e4a511af01735cbabd156995d"
   }
  }
 },
 "nbformat": 4,
 "nbformat_minor": 2
}
